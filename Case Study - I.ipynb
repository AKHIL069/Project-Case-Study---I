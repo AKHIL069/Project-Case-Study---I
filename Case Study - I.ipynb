{
 "cells": [
  {
   "cell_type": "markdown",
   "id": "12e3130d",
   "metadata": {},
   "source": [
    "This dataset has funding information of the Indian startups from January 2015 to August 2017."
   ]
  },
  {
   "cell_type": "markdown",
   "id": "5b8b0165",
   "metadata": {},
   "source": [
    "# Question :"
   ]
  },
  {
   "cell_type": "markdown",
   "id": "3c7f7686",
   "metadata": {},
   "source": [
    "Check the trend of investments over the years. To check the trend, find -\n",
    "Total number of fundings done in each year.\n",
    "Plot a line graph between year and number of fundings. Take year on x-axis and number of fundings on y-axis.\n",
    "Print year-wise total number of fundings also. Print years in ascending order.\n",
    "Note :\n",
    "There is some error in the 'Date' feature. Make sure to handle that."
   ]
  },
  {
   "cell_type": "code",
   "execution_count": 1,
   "id": "ea4c16aa",
   "metadata": {},
   "outputs": [
    {
     "ename": "AttributeError",
     "evalue": "'float' object has no attribute 'split'",
     "output_type": "error",
     "traceback": [
      "\u001b[1;31m---------------------------------------------------------------------------\u001b[0m",
      "\u001b[1;31mAttributeError\u001b[0m                            Traceback (most recent call last)",
      "\u001b[1;32m<ipython-input-1-e24dd5dd365c>\u001b[0m in \u001b[0;36m<module>\u001b[1;34m\u001b[0m\n\u001b[0;32m      5\u001b[0m \u001b[1;32mdef\u001b[0m \u001b[0mseparateCity\u001b[0m\u001b[1;33m(\u001b[0m\u001b[0mcity\u001b[0m\u001b[1;33m)\u001b[0m\u001b[1;33m:\u001b[0m\u001b[1;33m\u001b[0m\u001b[1;33m\u001b[0m\u001b[0m\n\u001b[0;32m      6\u001b[0m     \u001b[1;32mreturn\u001b[0m \u001b[0mcity\u001b[0m\u001b[1;33m.\u001b[0m\u001b[0msplit\u001b[0m\u001b[1;33m(\u001b[0m\u001b[1;34m'/'\u001b[0m\u001b[1;33m)\u001b[0m\u001b[1;33m[\u001b[0m\u001b[1;36m0\u001b[0m\u001b[1;33m]\u001b[0m\u001b[1;33m.\u001b[0m\u001b[0mstrip\u001b[0m\u001b[1;33m(\u001b[0m\u001b[1;33m)\u001b[0m\u001b[1;33m\u001b[0m\u001b[1;33m\u001b[0m\u001b[0m\n\u001b[1;32m----> 7\u001b[1;33m \u001b[0mdf_start\u001b[0m\u001b[1;33m[\u001b[0m\u001b[1;34m'CityLocation'\u001b[0m\u001b[1;33m]\u001b[0m\u001b[1;33m=\u001b[0m\u001b[0mdf_start\u001b[0m\u001b[1;33m[\u001b[0m\u001b[1;34m'CityLocation'\u001b[0m\u001b[1;33m]\u001b[0m\u001b[1;33m.\u001b[0m\u001b[0mapply\u001b[0m\u001b[1;33m(\u001b[0m\u001b[0mseparateCity\u001b[0m\u001b[1;33m)\u001b[0m\u001b[1;33m\u001b[0m\u001b[1;33m\u001b[0m\u001b[0m\n\u001b[0m\u001b[0;32m      8\u001b[0m \u001b[0mdf_start\u001b[0m\u001b[1;33m[\u001b[0m\u001b[1;34m'CityLocation'\u001b[0m\u001b[1;33m]\u001b[0m\u001b[1;33m.\u001b[0m\u001b[0mreplace\u001b[0m\u001b[1;33m(\u001b[0m\u001b[1;34m\"Delhi\"\u001b[0m\u001b[1;33m,\u001b[0m\u001b[1;34m\"New Delhi\"\u001b[0m\u001b[1;33m,\u001b[0m\u001b[0minplace\u001b[0m\u001b[1;33m=\u001b[0m\u001b[1;32mTrue\u001b[0m\u001b[1;33m)\u001b[0m\u001b[1;33m\u001b[0m\u001b[1;33m\u001b[0m\u001b[0m\n\u001b[0;32m      9\u001b[0m \u001b[0mdf_start\u001b[0m\u001b[1;33m[\u001b[0m\u001b[1;34m'CityLocation'\u001b[0m\u001b[1;33m]\u001b[0m\u001b[1;33m.\u001b[0m\u001b[0mreplace\u001b[0m\u001b[1;33m(\u001b[0m\u001b[1;34m\"bangalore\"\u001b[0m\u001b[1;33m,\u001b[0m\u001b[1;34m\"Bangalore\"\u001b[0m\u001b[1;33m,\u001b[0m\u001b[0minplace\u001b[0m\u001b[1;33m=\u001b[0m\u001b[1;32mTrue\u001b[0m\u001b[1;33m)\u001b[0m\u001b[1;33m\u001b[0m\u001b[1;33m\u001b[0m\u001b[0m\n",
      "\u001b[1;32m~\\anaconda3\\lib\\site-packages\\pandas\\core\\series.py\u001b[0m in \u001b[0;36mapply\u001b[1;34m(self, func, convert_dtype, args, **kwds)\u001b[0m\n\u001b[0;32m   4136\u001b[0m             \u001b[1;32melse\u001b[0m\u001b[1;33m:\u001b[0m\u001b[1;33m\u001b[0m\u001b[1;33m\u001b[0m\u001b[0m\n\u001b[0;32m   4137\u001b[0m                 \u001b[0mvalues\u001b[0m \u001b[1;33m=\u001b[0m \u001b[0mself\u001b[0m\u001b[1;33m.\u001b[0m\u001b[0mastype\u001b[0m\u001b[1;33m(\u001b[0m\u001b[0mobject\u001b[0m\u001b[1;33m)\u001b[0m\u001b[1;33m.\u001b[0m\u001b[0m_values\u001b[0m\u001b[1;33m\u001b[0m\u001b[1;33m\u001b[0m\u001b[0m\n\u001b[1;32m-> 4138\u001b[1;33m                 \u001b[0mmapped\u001b[0m \u001b[1;33m=\u001b[0m \u001b[0mlib\u001b[0m\u001b[1;33m.\u001b[0m\u001b[0mmap_infer\u001b[0m\u001b[1;33m(\u001b[0m\u001b[0mvalues\u001b[0m\u001b[1;33m,\u001b[0m \u001b[0mf\u001b[0m\u001b[1;33m,\u001b[0m \u001b[0mconvert\u001b[0m\u001b[1;33m=\u001b[0m\u001b[0mconvert_dtype\u001b[0m\u001b[1;33m)\u001b[0m\u001b[1;33m\u001b[0m\u001b[1;33m\u001b[0m\u001b[0m\n\u001b[0m\u001b[0;32m   4139\u001b[0m \u001b[1;33m\u001b[0m\u001b[0m\n\u001b[0;32m   4140\u001b[0m         \u001b[1;32mif\u001b[0m \u001b[0mlen\u001b[0m\u001b[1;33m(\u001b[0m\u001b[0mmapped\u001b[0m\u001b[1;33m)\u001b[0m \u001b[1;32mand\u001b[0m \u001b[0misinstance\u001b[0m\u001b[1;33m(\u001b[0m\u001b[0mmapped\u001b[0m\u001b[1;33m[\u001b[0m\u001b[1;36m0\u001b[0m\u001b[1;33m]\u001b[0m\u001b[1;33m,\u001b[0m \u001b[0mSeries\u001b[0m\u001b[1;33m)\u001b[0m\u001b[1;33m:\u001b[0m\u001b[1;33m\u001b[0m\u001b[1;33m\u001b[0m\u001b[0m\n",
      "\u001b[1;32mpandas\\_libs\\lib.pyx\u001b[0m in \u001b[0;36mpandas._libs.lib.map_infer\u001b[1;34m()\u001b[0m\n",
      "\u001b[1;32m<ipython-input-1-e24dd5dd365c>\u001b[0m in \u001b[0;36mseparateCity\u001b[1;34m(city)\u001b[0m\n\u001b[0;32m      4\u001b[0m \u001b[0mdf_start\u001b[0m\u001b[1;33m[\u001b[0m\u001b[1;34m'CityLocation'\u001b[0m\u001b[1;33m]\u001b[0m\u001b[1;33m.\u001b[0m\u001b[0mdropna\u001b[0m\u001b[1;33m(\u001b[0m\u001b[0minplace\u001b[0m\u001b[1;33m=\u001b[0m\u001b[1;32mTrue\u001b[0m\u001b[1;33m)\u001b[0m\u001b[1;33m\u001b[0m\u001b[1;33m\u001b[0m\u001b[0m\n\u001b[0;32m      5\u001b[0m \u001b[1;32mdef\u001b[0m \u001b[0mseparateCity\u001b[0m\u001b[1;33m(\u001b[0m\u001b[0mcity\u001b[0m\u001b[1;33m)\u001b[0m\u001b[1;33m:\u001b[0m\u001b[1;33m\u001b[0m\u001b[1;33m\u001b[0m\u001b[0m\n\u001b[1;32m----> 6\u001b[1;33m     \u001b[1;32mreturn\u001b[0m \u001b[0mcity\u001b[0m\u001b[1;33m.\u001b[0m\u001b[0msplit\u001b[0m\u001b[1;33m(\u001b[0m\u001b[1;34m'/'\u001b[0m\u001b[1;33m)\u001b[0m\u001b[1;33m[\u001b[0m\u001b[1;36m0\u001b[0m\u001b[1;33m]\u001b[0m\u001b[1;33m.\u001b[0m\u001b[0mstrip\u001b[0m\u001b[1;33m(\u001b[0m\u001b[1;33m)\u001b[0m\u001b[1;33m\u001b[0m\u001b[1;33m\u001b[0m\u001b[0m\n\u001b[0m\u001b[0;32m      7\u001b[0m \u001b[0mdf_start\u001b[0m\u001b[1;33m[\u001b[0m\u001b[1;34m'CityLocation'\u001b[0m\u001b[1;33m]\u001b[0m\u001b[1;33m=\u001b[0m\u001b[0mdf_start\u001b[0m\u001b[1;33m[\u001b[0m\u001b[1;34m'CityLocation'\u001b[0m\u001b[1;33m]\u001b[0m\u001b[1;33m.\u001b[0m\u001b[0mapply\u001b[0m\u001b[1;33m(\u001b[0m\u001b[0mseparateCity\u001b[0m\u001b[1;33m)\u001b[0m\u001b[1;33m\u001b[0m\u001b[1;33m\u001b[0m\u001b[0m\n\u001b[0;32m      8\u001b[0m \u001b[0mdf_start\u001b[0m\u001b[1;33m[\u001b[0m\u001b[1;34m'CityLocation'\u001b[0m\u001b[1;33m]\u001b[0m\u001b[1;33m.\u001b[0m\u001b[0mreplace\u001b[0m\u001b[1;33m(\u001b[0m\u001b[1;34m\"Delhi\"\u001b[0m\u001b[1;33m,\u001b[0m\u001b[1;34m\"New Delhi\"\u001b[0m\u001b[1;33m,\u001b[0m\u001b[0minplace\u001b[0m\u001b[1;33m=\u001b[0m\u001b[1;32mTrue\u001b[0m\u001b[1;33m)\u001b[0m\u001b[1;33m\u001b[0m\u001b[1;33m\u001b[0m\u001b[0m\n",
      "\u001b[1;31mAttributeError\u001b[0m: 'float' object has no attribute 'split'"
     ]
    }
   ],
   "source": [
    "import pandas as pd\n",
    "import numpy as np\n",
    "df_start=pd.read_csv('C:/startup_funding.csv',encoding='utf-8')\n",
    "df_start['CityLocation'].dropna(inplace=True)\n",
    "def separateCity(city):\n",
    "    return city.split('/')[0].strip()\n",
    "df_start['CityLocation']=df_start['CityLocation'].apply(separateCity)\n",
    "df_start['CityLocation'].replace(\"Delhi\",\"New Delhi\",inplace=True)\n",
    "df_start['CityLocation'].replace(\"bangalore\",\"Bangalore\",inplace=True)\n",
    "city_number=df_start['CityLocation'].value_counts()[0:10]\n",
    "city=city_number.index\n",
    "numCity=city_number.values\n",
    "for i in range(len(city)):\n",
    "    print(city[i],numCity[i])"
   ]
  },
  {
   "cell_type": "markdown",
   "id": "df2343c3",
   "metadata": {},
   "source": [
    "# Question :"
   ]
  },
  {
   "cell_type": "markdown",
   "id": "851f69b3",
   "metadata": {},
   "source": [
    "Find out which cities are generally chosen for starting a startup.\n",
    "Find top 10 Indian cities which have most number of startups ?\n",
    "Plot a pie chart and visualise it.\n",
    "Print the city name and number of startups in that city also.\n",
    "Note :\n",
    "Take city name \"Delhi\" as \"New Delhi\".\n",
    "Check the case-sensitiveness of cities also. That means - at some place, instead of \"Bangalore\", \"bangalore\" is given. Take city name as \"Bangalore\".\n",
    "For few startups multiple locations are given, one Indian and one Foreign. Count those startups in Indian startup also. Indian city name is first.\n",
    "Print the city in descending order with respect to the number of startups."
   ]
  },
  {
   "cell_type": "code",
   "execution_count": 10,
   "id": "be392bde",
   "metadata": {},
   "outputs": [
    {
     "ename": "AttributeError",
     "evalue": "'float' object has no attribute 'split'",
     "output_type": "error",
     "traceback": [
      "\u001b[1;31m---------------------------------------------------------------------------\u001b[0m",
      "\u001b[1;31mAttributeError\u001b[0m                            Traceback (most recent call last)",
      "\u001b[1;32m<ipython-input-10-e24dd5dd365c>\u001b[0m in \u001b[0;36m<module>\u001b[1;34m\u001b[0m\n\u001b[0;32m      5\u001b[0m \u001b[1;32mdef\u001b[0m \u001b[0mseparateCity\u001b[0m\u001b[1;33m(\u001b[0m\u001b[0mcity\u001b[0m\u001b[1;33m)\u001b[0m\u001b[1;33m:\u001b[0m\u001b[1;33m\u001b[0m\u001b[1;33m\u001b[0m\u001b[0m\n\u001b[0;32m      6\u001b[0m     \u001b[1;32mreturn\u001b[0m \u001b[0mcity\u001b[0m\u001b[1;33m.\u001b[0m\u001b[0msplit\u001b[0m\u001b[1;33m(\u001b[0m\u001b[1;34m'/'\u001b[0m\u001b[1;33m)\u001b[0m\u001b[1;33m[\u001b[0m\u001b[1;36m0\u001b[0m\u001b[1;33m]\u001b[0m\u001b[1;33m.\u001b[0m\u001b[0mstrip\u001b[0m\u001b[1;33m(\u001b[0m\u001b[1;33m)\u001b[0m\u001b[1;33m\u001b[0m\u001b[1;33m\u001b[0m\u001b[0m\n\u001b[1;32m----> 7\u001b[1;33m \u001b[0mdf_start\u001b[0m\u001b[1;33m[\u001b[0m\u001b[1;34m'CityLocation'\u001b[0m\u001b[1;33m]\u001b[0m\u001b[1;33m=\u001b[0m\u001b[0mdf_start\u001b[0m\u001b[1;33m[\u001b[0m\u001b[1;34m'CityLocation'\u001b[0m\u001b[1;33m]\u001b[0m\u001b[1;33m.\u001b[0m\u001b[0mapply\u001b[0m\u001b[1;33m(\u001b[0m\u001b[0mseparateCity\u001b[0m\u001b[1;33m)\u001b[0m\u001b[1;33m\u001b[0m\u001b[1;33m\u001b[0m\u001b[0m\n\u001b[0m\u001b[0;32m      8\u001b[0m \u001b[0mdf_start\u001b[0m\u001b[1;33m[\u001b[0m\u001b[1;34m'CityLocation'\u001b[0m\u001b[1;33m]\u001b[0m\u001b[1;33m.\u001b[0m\u001b[0mreplace\u001b[0m\u001b[1;33m(\u001b[0m\u001b[1;34m\"Delhi\"\u001b[0m\u001b[1;33m,\u001b[0m\u001b[1;34m\"New Delhi\"\u001b[0m\u001b[1;33m,\u001b[0m\u001b[0minplace\u001b[0m\u001b[1;33m=\u001b[0m\u001b[1;32mTrue\u001b[0m\u001b[1;33m)\u001b[0m\u001b[1;33m\u001b[0m\u001b[1;33m\u001b[0m\u001b[0m\n\u001b[0;32m      9\u001b[0m \u001b[0mdf_start\u001b[0m\u001b[1;33m[\u001b[0m\u001b[1;34m'CityLocation'\u001b[0m\u001b[1;33m]\u001b[0m\u001b[1;33m.\u001b[0m\u001b[0mreplace\u001b[0m\u001b[1;33m(\u001b[0m\u001b[1;34m\"bangalore\"\u001b[0m\u001b[1;33m,\u001b[0m\u001b[1;34m\"Bangalore\"\u001b[0m\u001b[1;33m,\u001b[0m\u001b[0minplace\u001b[0m\u001b[1;33m=\u001b[0m\u001b[1;32mTrue\u001b[0m\u001b[1;33m)\u001b[0m\u001b[1;33m\u001b[0m\u001b[1;33m\u001b[0m\u001b[0m\n",
      "\u001b[1;32m~\\anaconda3\\lib\\site-packages\\pandas\\core\\series.py\u001b[0m in \u001b[0;36mapply\u001b[1;34m(self, func, convert_dtype, args, **kwds)\u001b[0m\n\u001b[0;32m   4136\u001b[0m             \u001b[1;32melse\u001b[0m\u001b[1;33m:\u001b[0m\u001b[1;33m\u001b[0m\u001b[1;33m\u001b[0m\u001b[0m\n\u001b[0;32m   4137\u001b[0m                 \u001b[0mvalues\u001b[0m \u001b[1;33m=\u001b[0m \u001b[0mself\u001b[0m\u001b[1;33m.\u001b[0m\u001b[0mastype\u001b[0m\u001b[1;33m(\u001b[0m\u001b[0mobject\u001b[0m\u001b[1;33m)\u001b[0m\u001b[1;33m.\u001b[0m\u001b[0m_values\u001b[0m\u001b[1;33m\u001b[0m\u001b[1;33m\u001b[0m\u001b[0m\n\u001b[1;32m-> 4138\u001b[1;33m                 \u001b[0mmapped\u001b[0m \u001b[1;33m=\u001b[0m \u001b[0mlib\u001b[0m\u001b[1;33m.\u001b[0m\u001b[0mmap_infer\u001b[0m\u001b[1;33m(\u001b[0m\u001b[0mvalues\u001b[0m\u001b[1;33m,\u001b[0m \u001b[0mf\u001b[0m\u001b[1;33m,\u001b[0m \u001b[0mconvert\u001b[0m\u001b[1;33m=\u001b[0m\u001b[0mconvert_dtype\u001b[0m\u001b[1;33m)\u001b[0m\u001b[1;33m\u001b[0m\u001b[1;33m\u001b[0m\u001b[0m\n\u001b[0m\u001b[0;32m   4139\u001b[0m \u001b[1;33m\u001b[0m\u001b[0m\n\u001b[0;32m   4140\u001b[0m         \u001b[1;32mif\u001b[0m \u001b[0mlen\u001b[0m\u001b[1;33m(\u001b[0m\u001b[0mmapped\u001b[0m\u001b[1;33m)\u001b[0m \u001b[1;32mand\u001b[0m \u001b[0misinstance\u001b[0m\u001b[1;33m(\u001b[0m\u001b[0mmapped\u001b[0m\u001b[1;33m[\u001b[0m\u001b[1;36m0\u001b[0m\u001b[1;33m]\u001b[0m\u001b[1;33m,\u001b[0m \u001b[0mSeries\u001b[0m\u001b[1;33m)\u001b[0m\u001b[1;33m:\u001b[0m\u001b[1;33m\u001b[0m\u001b[1;33m\u001b[0m\u001b[0m\n",
      "\u001b[1;32mpandas\\_libs\\lib.pyx\u001b[0m in \u001b[0;36mpandas._libs.lib.map_infer\u001b[1;34m()\u001b[0m\n",
      "\u001b[1;32m<ipython-input-10-e24dd5dd365c>\u001b[0m in \u001b[0;36mseparateCity\u001b[1;34m(city)\u001b[0m\n\u001b[0;32m      4\u001b[0m \u001b[0mdf_start\u001b[0m\u001b[1;33m[\u001b[0m\u001b[1;34m'CityLocation'\u001b[0m\u001b[1;33m]\u001b[0m\u001b[1;33m.\u001b[0m\u001b[0mdropna\u001b[0m\u001b[1;33m(\u001b[0m\u001b[0minplace\u001b[0m\u001b[1;33m=\u001b[0m\u001b[1;32mTrue\u001b[0m\u001b[1;33m)\u001b[0m\u001b[1;33m\u001b[0m\u001b[1;33m\u001b[0m\u001b[0m\n\u001b[0;32m      5\u001b[0m \u001b[1;32mdef\u001b[0m \u001b[0mseparateCity\u001b[0m\u001b[1;33m(\u001b[0m\u001b[0mcity\u001b[0m\u001b[1;33m)\u001b[0m\u001b[1;33m:\u001b[0m\u001b[1;33m\u001b[0m\u001b[1;33m\u001b[0m\u001b[0m\n\u001b[1;32m----> 6\u001b[1;33m     \u001b[1;32mreturn\u001b[0m \u001b[0mcity\u001b[0m\u001b[1;33m.\u001b[0m\u001b[0msplit\u001b[0m\u001b[1;33m(\u001b[0m\u001b[1;34m'/'\u001b[0m\u001b[1;33m)\u001b[0m\u001b[1;33m[\u001b[0m\u001b[1;36m0\u001b[0m\u001b[1;33m]\u001b[0m\u001b[1;33m.\u001b[0m\u001b[0mstrip\u001b[0m\u001b[1;33m(\u001b[0m\u001b[1;33m)\u001b[0m\u001b[1;33m\u001b[0m\u001b[1;33m\u001b[0m\u001b[0m\n\u001b[0m\u001b[0;32m      7\u001b[0m \u001b[0mdf_start\u001b[0m\u001b[1;33m[\u001b[0m\u001b[1;34m'CityLocation'\u001b[0m\u001b[1;33m]\u001b[0m\u001b[1;33m=\u001b[0m\u001b[0mdf_start\u001b[0m\u001b[1;33m[\u001b[0m\u001b[1;34m'CityLocation'\u001b[0m\u001b[1;33m]\u001b[0m\u001b[1;33m.\u001b[0m\u001b[0mapply\u001b[0m\u001b[1;33m(\u001b[0m\u001b[0mseparateCity\u001b[0m\u001b[1;33m)\u001b[0m\u001b[1;33m\u001b[0m\u001b[1;33m\u001b[0m\u001b[0m\n\u001b[0;32m      8\u001b[0m \u001b[0mdf_start\u001b[0m\u001b[1;33m[\u001b[0m\u001b[1;34m'CityLocation'\u001b[0m\u001b[1;33m]\u001b[0m\u001b[1;33m.\u001b[0m\u001b[0mreplace\u001b[0m\u001b[1;33m(\u001b[0m\u001b[1;34m\"Delhi\"\u001b[0m\u001b[1;33m,\u001b[0m\u001b[1;34m\"New Delhi\"\u001b[0m\u001b[1;33m,\u001b[0m\u001b[0minplace\u001b[0m\u001b[1;33m=\u001b[0m\u001b[1;32mTrue\u001b[0m\u001b[1;33m)\u001b[0m\u001b[1;33m\u001b[0m\u001b[1;33m\u001b[0m\u001b[0m\n",
      "\u001b[1;31mAttributeError\u001b[0m: 'float' object has no attribute 'split'"
     ]
    }
   ],
   "source": [
    "import pandas as pd\n",
    "import numpy as np\n",
    "df_start=pd.read_csv('C:/startup_funding.csv',encoding='utf-8')\n",
    "df_start['CityLocation'].dropna(inplace=True)\n",
    "def separateCity(city):\n",
    "    return city.split('/')[0].strip()\n",
    "df_start['CityLocation']=df_start['CityLocation'].apply(separateCity)\n",
    "df_start['CityLocation'].replace(\"Delhi\",\"New Delhi\",inplace=True)\n",
    "df_start['CityLocation'].replace(\"bangalore\",\"Bangalore\",inplace=True)\n",
    "city_number=df_start['CityLocation'].value_counts()[0:10]\n",
    "city=city_number.index\n",
    "numCity=city_number.values\n",
    "for i in range(len(city)):\n",
    "    print(city[i],numCity[i])"
   ]
  },
  {
   "cell_type": "markdown",
   "id": "8b2746c2",
   "metadata": {},
   "source": [
    "# Question :"
   ]
  },
  {
   "cell_type": "markdown",
   "id": "974e5b82",
   "metadata": {},
   "source": [
    "Find out if cities play any role in receiving funding.\n",
    "Find top 10 Indian cities with most amount of fundings received. Find out percentage of funding each city has got (among top 10 Indian cities only).\n",
    "Print the city and percentage with 2 decimal place after rounding off.\n",
    "Note:\n",
    "Take city name \"Delhi\" as \"New Delhi\".\n",
    "Check the case-sensitiveness of cities also. That means - at some place, instead of \"Bangalore\", \"bangalore\" is given. Take city name as \"Bangalore\".\n",
    "For few startups multiple locations are given, one Indian and one Foreign. Count those startups in Indian startup also. Indian city name is first.\n",
    "Print the city in descending order with respect to the percentage of funding."
   ]
  },
  {
   "cell_type": "code",
   "execution_count": 9,
   "id": "636a18a2",
   "metadata": {},
   "outputs": [
    {
     "ename": "AttributeError",
     "evalue": "'float' object has no attribute 'split'",
     "output_type": "error",
     "traceback": [
      "\u001b[1;31m---------------------------------------------------------------------------\u001b[0m",
      "\u001b[1;31mAttributeError\u001b[0m                            Traceback (most recent call last)",
      "\u001b[1;32m<ipython-input-9-e4d62ba66c9e>\u001b[0m in \u001b[0;36m<module>\u001b[1;34m\u001b[0m\n\u001b[0;32m      5\u001b[0m \u001b[1;32mdef\u001b[0m \u001b[0mseparateCity\u001b[0m\u001b[1;33m(\u001b[0m\u001b[0mcity\u001b[0m\u001b[1;33m)\u001b[0m\u001b[1;33m:\u001b[0m\u001b[1;33m\u001b[0m\u001b[1;33m\u001b[0m\u001b[0m\n\u001b[0;32m      6\u001b[0m     \u001b[1;32mreturn\u001b[0m \u001b[0mcity\u001b[0m\u001b[1;33m.\u001b[0m\u001b[0msplit\u001b[0m\u001b[1;33m(\u001b[0m\u001b[1;34m'/'\u001b[0m\u001b[1;33m)\u001b[0m\u001b[1;33m[\u001b[0m\u001b[1;36m0\u001b[0m\u001b[1;33m]\u001b[0m\u001b[1;33m.\u001b[0m\u001b[0mstrip\u001b[0m\u001b[1;33m(\u001b[0m\u001b[1;33m)\u001b[0m\u001b[1;33m\u001b[0m\u001b[1;33m\u001b[0m\u001b[0m\n\u001b[1;32m----> 7\u001b[1;33m \u001b[0mdf_start\u001b[0m\u001b[1;33m[\u001b[0m\u001b[1;34m'CityLocation'\u001b[0m\u001b[1;33m]\u001b[0m\u001b[1;33m=\u001b[0m\u001b[0mdf_start\u001b[0m\u001b[1;33m[\u001b[0m\u001b[1;34m'CityLocation'\u001b[0m\u001b[1;33m]\u001b[0m\u001b[1;33m.\u001b[0m\u001b[0mapply\u001b[0m\u001b[1;33m(\u001b[0m\u001b[0mseparateCity\u001b[0m\u001b[1;33m)\u001b[0m\u001b[1;33m\u001b[0m\u001b[1;33m\u001b[0m\u001b[0m\n\u001b[0m\u001b[0;32m      8\u001b[0m \u001b[0mdf_start\u001b[0m\u001b[1;33m[\u001b[0m\u001b[1;34m'CityLocation'\u001b[0m\u001b[1;33m]\u001b[0m\u001b[1;33m.\u001b[0m\u001b[0mreplace\u001b[0m\u001b[1;33m(\u001b[0m\u001b[1;34m\"Delhi\"\u001b[0m\u001b[1;33m,\u001b[0m\u001b[1;34m\"New Delhi\"\u001b[0m\u001b[1;33m,\u001b[0m\u001b[0minplace\u001b[0m\u001b[1;33m=\u001b[0m\u001b[1;32mTrue\u001b[0m\u001b[1;33m)\u001b[0m\u001b[1;33m\u001b[0m\u001b[1;33m\u001b[0m\u001b[0m\n\u001b[0;32m      9\u001b[0m \u001b[0mdf_start\u001b[0m\u001b[1;33m[\u001b[0m\u001b[1;34m'CityLocation'\u001b[0m\u001b[1;33m]\u001b[0m\u001b[1;33m.\u001b[0m\u001b[0mreplace\u001b[0m\u001b[1;33m(\u001b[0m\u001b[1;34m\"bangalore\"\u001b[0m\u001b[1;33m,\u001b[0m\u001b[1;34m\"Bangalore\"\u001b[0m\u001b[1;33m,\u001b[0m\u001b[0minplace\u001b[0m\u001b[1;33m=\u001b[0m\u001b[1;32mTrue\u001b[0m\u001b[1;33m)\u001b[0m\u001b[1;33m\u001b[0m\u001b[1;33m\u001b[0m\u001b[0m\n",
      "\u001b[1;32m~\\anaconda3\\lib\\site-packages\\pandas\\core\\series.py\u001b[0m in \u001b[0;36mapply\u001b[1;34m(self, func, convert_dtype, args, **kwds)\u001b[0m\n\u001b[0;32m   4136\u001b[0m             \u001b[1;32melse\u001b[0m\u001b[1;33m:\u001b[0m\u001b[1;33m\u001b[0m\u001b[1;33m\u001b[0m\u001b[0m\n\u001b[0;32m   4137\u001b[0m                 \u001b[0mvalues\u001b[0m \u001b[1;33m=\u001b[0m \u001b[0mself\u001b[0m\u001b[1;33m.\u001b[0m\u001b[0mastype\u001b[0m\u001b[1;33m(\u001b[0m\u001b[0mobject\u001b[0m\u001b[1;33m)\u001b[0m\u001b[1;33m.\u001b[0m\u001b[0m_values\u001b[0m\u001b[1;33m\u001b[0m\u001b[1;33m\u001b[0m\u001b[0m\n\u001b[1;32m-> 4138\u001b[1;33m                 \u001b[0mmapped\u001b[0m \u001b[1;33m=\u001b[0m \u001b[0mlib\u001b[0m\u001b[1;33m.\u001b[0m\u001b[0mmap_infer\u001b[0m\u001b[1;33m(\u001b[0m\u001b[0mvalues\u001b[0m\u001b[1;33m,\u001b[0m \u001b[0mf\u001b[0m\u001b[1;33m,\u001b[0m \u001b[0mconvert\u001b[0m\u001b[1;33m=\u001b[0m\u001b[0mconvert_dtype\u001b[0m\u001b[1;33m)\u001b[0m\u001b[1;33m\u001b[0m\u001b[1;33m\u001b[0m\u001b[0m\n\u001b[0m\u001b[0;32m   4139\u001b[0m \u001b[1;33m\u001b[0m\u001b[0m\n\u001b[0;32m   4140\u001b[0m         \u001b[1;32mif\u001b[0m \u001b[0mlen\u001b[0m\u001b[1;33m(\u001b[0m\u001b[0mmapped\u001b[0m\u001b[1;33m)\u001b[0m \u001b[1;32mand\u001b[0m \u001b[0misinstance\u001b[0m\u001b[1;33m(\u001b[0m\u001b[0mmapped\u001b[0m\u001b[1;33m[\u001b[0m\u001b[1;36m0\u001b[0m\u001b[1;33m]\u001b[0m\u001b[1;33m,\u001b[0m \u001b[0mSeries\u001b[0m\u001b[1;33m)\u001b[0m\u001b[1;33m:\u001b[0m\u001b[1;33m\u001b[0m\u001b[1;33m\u001b[0m\u001b[0m\n",
      "\u001b[1;32mpandas\\_libs\\lib.pyx\u001b[0m in \u001b[0;36mpandas._libs.lib.map_infer\u001b[1;34m()\u001b[0m\n",
      "\u001b[1;32m<ipython-input-9-e4d62ba66c9e>\u001b[0m in \u001b[0;36mseparateCity\u001b[1;34m(city)\u001b[0m\n\u001b[0;32m      4\u001b[0m \u001b[0mdf_start\u001b[0m\u001b[1;33m[\u001b[0m\u001b[1;34m'CityLocation'\u001b[0m\u001b[1;33m]\u001b[0m\u001b[1;33m.\u001b[0m\u001b[0mdropna\u001b[0m\u001b[1;33m(\u001b[0m\u001b[0minplace\u001b[0m\u001b[1;33m=\u001b[0m\u001b[1;32mTrue\u001b[0m\u001b[1;33m)\u001b[0m\u001b[1;33m\u001b[0m\u001b[1;33m\u001b[0m\u001b[0m\n\u001b[0;32m      5\u001b[0m \u001b[1;32mdef\u001b[0m \u001b[0mseparateCity\u001b[0m\u001b[1;33m(\u001b[0m\u001b[0mcity\u001b[0m\u001b[1;33m)\u001b[0m\u001b[1;33m:\u001b[0m\u001b[1;33m\u001b[0m\u001b[1;33m\u001b[0m\u001b[0m\n\u001b[1;32m----> 6\u001b[1;33m     \u001b[1;32mreturn\u001b[0m \u001b[0mcity\u001b[0m\u001b[1;33m.\u001b[0m\u001b[0msplit\u001b[0m\u001b[1;33m(\u001b[0m\u001b[1;34m'/'\u001b[0m\u001b[1;33m)\u001b[0m\u001b[1;33m[\u001b[0m\u001b[1;36m0\u001b[0m\u001b[1;33m]\u001b[0m\u001b[1;33m.\u001b[0m\u001b[0mstrip\u001b[0m\u001b[1;33m(\u001b[0m\u001b[1;33m)\u001b[0m\u001b[1;33m\u001b[0m\u001b[1;33m\u001b[0m\u001b[0m\n\u001b[0m\u001b[0;32m      7\u001b[0m \u001b[0mdf_start\u001b[0m\u001b[1;33m[\u001b[0m\u001b[1;34m'CityLocation'\u001b[0m\u001b[1;33m]\u001b[0m\u001b[1;33m=\u001b[0m\u001b[0mdf_start\u001b[0m\u001b[1;33m[\u001b[0m\u001b[1;34m'CityLocation'\u001b[0m\u001b[1;33m]\u001b[0m\u001b[1;33m.\u001b[0m\u001b[0mapply\u001b[0m\u001b[1;33m(\u001b[0m\u001b[0mseparateCity\u001b[0m\u001b[1;33m)\u001b[0m\u001b[1;33m\u001b[0m\u001b[1;33m\u001b[0m\u001b[0m\n\u001b[0;32m      8\u001b[0m \u001b[0mdf_start\u001b[0m\u001b[1;33m[\u001b[0m\u001b[1;34m'CityLocation'\u001b[0m\u001b[1;33m]\u001b[0m\u001b[1;33m.\u001b[0m\u001b[0mreplace\u001b[0m\u001b[1;33m(\u001b[0m\u001b[1;34m\"Delhi\"\u001b[0m\u001b[1;33m,\u001b[0m\u001b[1;34m\"New Delhi\"\u001b[0m\u001b[1;33m,\u001b[0m\u001b[0minplace\u001b[0m\u001b[1;33m=\u001b[0m\u001b[1;32mTrue\u001b[0m\u001b[1;33m)\u001b[0m\u001b[1;33m\u001b[0m\u001b[1;33m\u001b[0m\u001b[0m\n",
      "\u001b[1;31mAttributeError\u001b[0m: 'float' object has no attribute 'split'"
     ]
    }
   ],
   "source": [
    "import pandas as pd\n",
    "import numpy as np\n",
    "df_start=pd.read_csv('C:/startup_funding.csv',encoding='utf-8')\n",
    "df_start['CityLocation'].dropna(inplace=True)\n",
    "def separateCity(city):\n",
    "    return city.split('/')[0].strip()\n",
    "df_start['CityLocation']=df_start['CityLocation'].apply(separateCity)\n",
    "df_start['CityLocation'].replace(\"Delhi\",\"New Delhi\",inplace=True)\n",
    "df_start['CityLocation'].replace(\"bangalore\",\"Bangalore\",inplace=True)\n",
    "## Converting \"AmountInUSD\" into numeric format\n",
    "df_start[\"AmountInUSD\"] = df_start[\"AmountInUSD\"].apply(lambda x: float(str(x).replace(\",\",\"\")))\n",
    "df_start[\"AmountInUSD\"] = pd.to_numeric(df_start[\"AmountInUSD\"])\n",
    "city_amount=df_start.groupby('CityLocation')['AmountInUSD'].sum().sort_values(ascending=False)[0:10]\n",
    "city=city_amount.index\n",
    "amountCity=city_amount.values\n",
    "perAmount=np.true_divide(amountCity, amountCity.sum())*100\n",
    "for i in range(len(city)):\n",
    "    print(city[i],format(perAmount[i],'.2f'))"
   ]
  },
  {
   "cell_type": "markdown",
   "id": "32e6c674",
   "metadata": {},
   "source": [
    "# Question :"
   ]
  },
  {
   "cell_type": "markdown",
   "id": "d945fd25",
   "metadata": {},
   "source": [
    "There are 4 different type of investments. Find out percentage of amount funded for each investment type.\n",
    "Plot a pie chart to visualise.\n",
    "Print the investment type and percentage of amount funded with 2 decimal places after rounding off.\n",
    "Note :\n",
    "Correct spelling of investment types are - \"Private Equity\", \"Seed Funding\", \"Debt Funding\", and \"Crowd Funding\". Keep an eye for any spelling mistake. You can find this by printing unique values from this column.\n",
    "Print the investment type in descending order with respect to the percentage of the amount funded."
   ]
  },
  {
   "cell_type": "code",
   "execution_count": 8,
   "id": "aa5f0e8f",
   "metadata": {},
   "outputs": [
    {
     "name": "stdout",
     "output_type": "stream",
     "text": [
      "Private Equity 98.15\n",
      "Seed Funding 1.81\n",
      "Debt Funding 0.04\n",
      "Crowd Funding 0.00\n"
     ]
    }
   ],
   "source": [
    "import matplotlib.pyplot as plt\n",
    "import numpy as np\n",
    "import pandas as pd\n",
    "import csv\n",
    "\n",
    "df=pd.read_csv('C:/startup_funding.csv',encoding='utf-8')\n",
    "\n",
    "df['InvestmentType'].replace(\"Crowd funding\",\"Crowd Funding\",inplace=True)\n",
    "df['InvestmentType'].replace(\"PrivateEquity\",\"Private Equity\",inplace=True)\n",
    "df['InvestmentType'].replace(\"SeedFunding\",\"Seed Funding\",inplace=True)\n",
    "\n",
    "df[\"AmountInUSD\"] = df[\"AmountInUSD\"].apply(lambda x: float(str(x).replace(\",\",\"\")))\n",
    "df[\"AmountInUSD\"] = pd.to_numeric(df[\"AmountInUSD\"])\n",
    "city_amount=df.groupby('InvestmentType')['AmountInUSD'].sum().sort_values(ascending=False)[0:10]\n",
    "city=city_amount.index\n",
    "amountCity=city_amount.values\n",
    "perAmount=np.true_divide(amountCity, amountCity.sum())*100\n",
    "for i in range(len(city)):\n",
    "    print(city[i],format(perAmount[i],'.2f'))"
   ]
  },
  {
   "cell_type": "markdown",
   "id": "f5a91778",
   "metadata": {},
   "source": [
    "# Question : "
   ]
  },
  {
   "cell_type": "markdown",
   "id": "fe55083f",
   "metadata": {},
   "source": [
    "Which type of companies got more easily funding. To answer this question, find -\n",
    "Top 5 industries and percentage of the total amount funded to that industry. (among top 5 only)\n",
    "Print the industry name and percentage of the amount funded with 2 decimal place after rounding off.\n",
    "Note :\n",
    "Ecommerce is the right word in IndustryVertical, so correct it.\n",
    "Print the industry in descending order with respect to the percentage of the amount funded."
   ]
  },
  {
   "cell_type": "code",
   "execution_count": 7,
   "id": "5350d28e",
   "metadata": {},
   "outputs": [
    {
     "name": "stdout",
     "output_type": "stream",
     "text": [
      "Ecommerce 40.53\n",
      "Consumer Internet 35.95\n",
      "Technology 10.45\n",
      "Online Marketplace 6.63\n",
      "E-Commerce & M-Commerce platform 6.44\n"
     ]
    }
   ],
   "source": [
    "import pandas as pd\n",
    "import numpy as np\n",
    "df=pd.read_csv('C:/startup_funding.csv',encoding='utf-8')\n",
    "\n",
    "df['IndustryVertical'].replace(\"eCommerce\",\"Ecommerce\",inplace=True)\n",
    "df['IndustryVertical'].replace(\"ECommerce\",\"Ecommerce\",inplace=True)\n",
    "df['IndustryVertical'].replace(\"ecommerce\",\"Ecommerce\",inplace=True)\n",
    "## Converting \"AmountInUSD\" into numeric format\n",
    "df[\"AmountInUSD\"] = df[\"AmountInUSD\"].apply(lambda x: float(str(x).replace(\",\",\"\")))\n",
    "df[\"AmountInUSD\"] = pd.to_numeric(df[\"AmountInUSD\"])\n",
    "industry_amount=df.groupby('IndustryVertical')['AmountInUSD'].sum().sort_values(ascending=False)[0:5]\n",
    "industry=industry_amount.index\n",
    "amount=industry_amount.values\n",
    "perAmount=np.true_divide(amount, amount.sum())*100\n",
    "for i in range(len(industry)):\n",
    "    print(industry[i],format(perAmount[i],'.2f'))"
   ]
  },
  {
   "cell_type": "markdown",
   "id": "ec56faaa",
   "metadata": {},
   "source": [
    "# Question :"
   ]
  },
  {
   "cell_type": "markdown",
   "id": "5236d5e1",
   "metadata": {},
   "source": [
    "Find top 5 startups with most amount of total funding.\n",
    "Print the startup name in descending order with respect to amount of funding.\n",
    "Note:\n",
    "Ola, Flipkart, Oyo, Paytm are important startups, so correct their names. There are many errors in startup names, ignore correcting all, just handle important ones."
   ]
  },
  {
   "cell_type": "code",
   "execution_count": 6,
   "id": "ddc1bbd2",
   "metadata": {},
   "outputs": [
    {
     "name": "stdout",
     "output_type": "stream",
     "text": [
      "Paytm\n",
      "Flipkart\n",
      "Ola\n",
      "Snapdeal\n",
      "Oyo\n"
     ]
    }
   ],
   "source": [
    "import pandas as pd\n",
    "import numpy as np\n",
    "import csv\n",
    "\n",
    "df=pd.read_csv(\"C:/startup_funding.csv\",encoding=\"utf-8\")\n",
    "df2=df.copy()\n",
    "\n",
    "def startCheck(x):\n",
    "    if(x == 'OYO Rooms'):\n",
    "        return 'Oyo'\n",
    "    elif (x == 'Oyorooms'):\n",
    "        return 'Oyo'\n",
    "    elif (x == 'Ola Cabs'):\n",
    "        return 'Ola'\n",
    "    elif(x == 'Paytm Marketplace'):\n",
    "        return 'Paytm'\n",
    "    elif(x==\"Flipkart.com\"):\n",
    "        return \"Flipkart\"\n",
    "    elif(x==\"Olacabs\"):\n",
    "        return \"Ola\"\n",
    "    elif(x==\"Oyo Rooms\"):\n",
    "        return \"Oyo\"\n",
    "    elif(x==\"OYO\"):\n",
    "        return \"Oyo\"\n",
    "    \n",
    "    return x\n",
    "df2['StartupName'] = df2['StartupName'].apply(startCheck)\n",
    "df2[\"AmountInUSD\"]=df2[\"AmountInUSD\"].apply(lambda x: float(str(x).replace(\",\",\"\")))\n",
    "df2[\"AmountInUSD\"]= pd.to_numeric(df2[\"AmountInUSD\"])\n",
    "amount= df2.groupby(\"StartupName\")[\"AmountInUSD\"].sum().sort_values(ascending=False)[0:5]\n",
    "\n",
    "start=amount.index\n",
    "funding=amount.values\n",
    "\n",
    "\n",
    "for i in start:\n",
    "    print(i)"
   ]
  },
  {
   "cell_type": "markdown",
   "id": "d6f40f53",
   "metadata": {},
   "source": [
    "# Question :"
   ]
  },
  {
   "cell_type": "markdown",
   "id": "6a86d9ea",
   "metadata": {},
   "source": [
    "Find the top 5 startups who received the most number of funding rounds. That means, startups which got fundings maximum number of times.\n",
    "Print the startup name in descending order with respect to the number of funding round as integer value.\n",
    "Note:\n",
    "Ola, Flipkart, Oyo, Paytm are important startups, so correct their names. There are many errors in startup names, ignore correcting all, just handle important ones."
   ]
  },
  {
   "cell_type": "code",
   "execution_count": 4,
   "id": "2596febc",
   "metadata": {},
   "outputs": [
    {
     "name": "stdout",
     "output_type": "stream",
     "text": [
      "Ola 9\n",
      "Swiggy 7\n",
      "Oyo 6\n",
      "UrbanClap 6\n",
      "Paytm 6\n"
     ]
    }
   ],
   "source": [
    "import pandas as pd\n",
    "import numpy as np\n",
    "import csv\n",
    "\n",
    "df=pd.read_csv(\"C:/startup_funding.csv\",encoding=\"utf-8\")\n",
    "df2=df.copy()\n",
    "\n",
    "def startCheck(x):\n",
    "    if(x == 'OYO Rooms'):\n",
    "        return 'Oyo'\n",
    "    elif (x == 'Oyorooms'):\n",
    "        return 'Oyo'\n",
    "    elif (x == 'Ola Cabs'):\n",
    "        return 'Ola'\n",
    "    elif(x == 'Paytm Marketplace'):\n",
    "        return 'Paytm'\n",
    "    elif(x==\"Flipkart.com\"):\n",
    "        return \"Flipkart\"\n",
    "    elif(x==\"Olacabs\" ):\n",
    "        return \"Ola\"\n",
    "    elif(x==\"Oyo Rooms\" or x=='OYO Rooms'):\n",
    "        return \"Oyo\"\n",
    "    elif(x==\"OYO\" or x=='OyoRooms'):\n",
    "        return \"Oyo\"\n",
    "    \n",
    "    return x\n",
    "df2['StartupName'] = df2['StartupName'].apply(startCheck)\n",
    "count_startup = df2['StartupName'].value_counts()[0:5]\n",
    "startup=count_startup.index\n",
    "number=count_startup.values\n",
    "for i in range(len(startup)):\n",
    "    print(startup[i],number[i])"
   ]
  },
  {
   "cell_type": "markdown",
   "id": "a4c34931",
   "metadata": {},
   "source": [
    "# Question :"
   ]
  },
  {
   "cell_type": "markdown",
   "id": "68a6d693",
   "metadata": {},
   "source": [
    "Find the Investors who have invested maximum number of times.\n",
    "Print the investor name and number of times invested as integer value.\n",
    "Note:\n",
    "In startup, multiple investors might have invested. So consider each investor for that startup.\n",
    "Ignore the undisclosed investors."
   ]
  },
  {
   "cell_type": "code",
   "execution_count": 5,
   "id": "c930b2da",
   "metadata": {},
   "outputs": [
    {
     "name": "stdout",
     "output_type": "stream",
     "text": [
      "Sequoia Capital 64\n",
      "Accel Partners 52\n",
      " 46\n",
      "Kalaari Capital 44\n",
      "SAIF Partners 41\n"
     ]
    }
   ],
   "source": [
    "import numpy as np\n",
    "import csv\n",
    "with open('C:/startup_funding.csv', encoding='utf8') as file_obj:\n",
    "    file_data=csv.DictReader(file_obj, skipinitialspace=True)\n",
    "    investors=[]\n",
    "    for row in file_data:\n",
    "        if not ('Undisclosed' in row['InvestorsName'] or 'undisclosed' in row['InvestorsName']):\n",
    "            for i in row['InvestorsName'].split(','):\n",
    "                investors.append(i.strip())\n",
    "    dic=dict()\n",
    "    for i in investors:\n",
    "        if i in dic.keys():\n",
    "            dic[i]+=1\n",
    "        else:\n",
    "            dic[i]=1\n",
    "    x=[]\n",
    "    y=[]\n",
    "    for i in dic.keys():\n",
    "        x.append(i)\n",
    "        y.append(dic[i])\n",
    "    np_x=np.array(x)\n",
    "    np_y=np.array(y)\n",
    "    np_x=np_x[np.argsort(np_y)]\n",
    "    np_y=np.sort(np_y)\n",
    "    \n",
    "    np_y=np_y[::-1]\n",
    "    np_x=np_x[::-1]\n",
    "    print(np_x[0], np_y[0])\n",
    "    print(np_x[1], np_y[1])\n",
    "    print(np_x[2], np_y[2])\n",
    "    print(np_x[3], np_y[3])\n",
    "    print(np_x[4], np_y[4])\n"
   ]
  }
 ],
 "metadata": {
  "kernelspec": {
   "display_name": "Python 3",
   "language": "python",
   "name": "python3"
  },
  "language_info": {
   "codemirror_mode": {
    "name": "ipython",
    "version": 3
   },
   "file_extension": ".py",
   "mimetype": "text/x-python",
   "name": "python",
   "nbconvert_exporter": "python",
   "pygments_lexer": "ipython3",
   "version": "3.8.8"
  }
 },
 "nbformat": 4,
 "nbformat_minor": 5
}
